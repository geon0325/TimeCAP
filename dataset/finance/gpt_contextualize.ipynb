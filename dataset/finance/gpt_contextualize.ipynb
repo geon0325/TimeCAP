{
 "cells": [
  {
   "cell_type": "code",
   "execution_count": null,
   "id": "1d0aa91f-ca94-4478-bf54-9f0c96d7da77",
   "metadata": {},
   "outputs": [],
   "source": [
    "import os\n",
    "import numpy as np\n",
    "import pickle as pkl\n",
    "from openai import OpenAI"
   ]
  },
  {
   "cell_type": "markdown",
   "id": "c9aef2d7-6073-4680-87cb-f027b20cda72",
   "metadata": {},
   "source": [
    "## Load Dataset"
   ]
  },
  {
   "cell_type": "code",
   "execution_count": null,
   "id": "ca6b7147-a9ef-4217-a35c-6e67a3dd4425",
   "metadata": {},
   "outputs": [],
   "source": [
    "with open('time_series.pkl', 'rb') as f:\n",
    "    data = pkl.load(f)\n",
    "    \n",
    "with open('indices.pkl', 'rb') as f:\n",
    "    indices = pkl.load(f)"
   ]
  },
  {
   "cell_type": "code",
   "execution_count": null,
   "id": "797e46fa-3c5a-40c2-9058-688a28def833",
   "metadata": {},
   "outputs": [],
   "source": [
    "data_size = data.shape[0]\n",
    "window_size = 20\n",
    "print(data_size, data.shape, window_size)"
   ]
  },
  {
   "cell_type": "markdown",
   "id": "041cd4e5-e85b-4cb6-b84c-f4930ef6f024",
   "metadata": {},
   "source": [
    "## Prompt GPT 4"
   ]
  },
  {
   "cell_type": "code",
   "execution_count": null,
   "id": "e51dfdec-9599-4054-a815-900023c2b24b",
   "metadata": {},
   "outputs": [],
   "source": [
    "API_KEY = ''"
   ]
  },
  {
   "cell_type": "code",
   "execution_count": null,
   "id": "92d39b6f-adc1-48f0-beda-a2e3b59f5689",
   "metadata": {},
   "outputs": [],
   "source": [
    "system_prompt = f\"Your job is to act as a professional finance analyst. You will write a high-quality report that is informative and helps in understanding the current financial situation.\"\n",
    "print(system_prompt)"
   ]
  },
  {
   "cell_type": "code",
   "execution_count": null,
   "id": "2639b368-c3e1-42c6-a434-994a2caacb69",
   "metadata": {},
   "outputs": [],
   "source": [
    "client = OpenAI(api_key=API_KEY)"
   ]
  },
  {
   "cell_type": "code",
   "execution_count": null,
   "id": "8092ebc2-a343-4018-a512-2703a602e8a4",
   "metadata": {
    "tags": []
   },
   "outputs": [],
   "source": [
    "for i in indices:\n",
    "    \n",
    "    data_window = data[i:i+window_size]\n",
    "    \n",
    "    s_p_500 = '|'.join([f\"{x:.2f}\" for x in data_window[:,1]])\n",
    "    vix = '|'.join([f\"{x:.2f}\" for x in data_window[:,2]])\n",
    "    nikkei_225 = '|'.join([f\"{x:.2f}\" for x in data_window[:,3]])\n",
    "    ftse_100 = '|'.join([f\"{x:.2f}\" for x in data_window[:,4]])\n",
    "    gold_futures = '|'.join([f\"{x:.2f}\" for x in data_window[:,5]])\n",
    "    crude_oil_futures = '|'.join([f\"{x:.2f}\" for x in data_window[:,6]])\n",
    "    eur_usd = '|'.join([f\"{x:.2f}\" for x in data_window[:,7]])\n",
    "    usd_jpy = '|'.join([f\"{x:.2f}\" for x in data_window[:,8]])\n",
    "    usd_cny = '|'.join([f\"{x:.2f}\" for x in data_window[:,9]])\n",
    "    \n",
    "    user_prompt = f\"Your task is to analyze key financial indicators over the last {window_size} market days.\"\n",
    "    user_prompt += f\"\\n\\nReview the time-series data provided for the last {window_size} market days. \"\n",
    "    user_prompt += f\"Each time-series consists of daily values separated by a \\'|\\' token for the following indicators:\\n\"\n",
    "    user_prompt += f\"- S&P 500: {s_p_500}\\n- VIX (Volatility Index): {vix}\\n- Nikkei 225: {nikkei_225}\\n- FTSE 100: {ftse_100}\\n- Gold Futures: {gold_futures}\\n- Crude Oil Futures: {crude_oil_futures}\\n- Exchange rate for EUR/USD: {eur_usd}\\n- Exchange rate for USD/JYP: {usd_jpy}\\n- Exchange rate for USD/CNY: {usd_cny}\\n\\n\"\n",
    "    user_prompt += f\"Based on this time-series data, write a concise report that provides insights crucial for understanding the current financial situation. \"\n",
    "    user_prompt += f\"Your report should be limited to five sentences, yet comprehensive, highlighting key trends and considering their potential impact on the market.\"\n",
    "    user_prompt += f\"Do not write numerical values while writing the report.\"\n",
    "    \n",
    "    response = client.chat.completions.create(\n",
    "        model=\"gpt-4-1106-preview\",\n",
    "        messages=[\n",
    "        {\n",
    "          \"role\": \"system\",\n",
    "          \"content\": system_prompt\n",
    "        },\n",
    "        {\n",
    "          \"role\": \"user\",\n",
    "          \"content\": user_prompt\n",
    "        }\n",
    "        ],\n",
    "        temperature=0.7,\n",
    "        max_tokens=2048,\n",
    "        top_p=1\n",
    "    )\n",
    "\n",
    "    text = response.choices[0].message.content\n",
    "    \n",
    "    with open(f'gpt_summary/{i}.txt', 'w') as f:\n",
    "        f.write(text)"
   ]
  },
  {
   "cell_type": "code",
   "execution_count": null,
   "id": "eef5b8cd-08cb-466e-adda-b00c5b67d685",
   "metadata": {},
   "outputs": [],
   "source": []
  }
 ],
 "metadata": {
  "kernelspec": {
   "display_name": "Python 3 (ipykernel)",
   "language": "python",
   "name": "python3"
  },
  "language_info": {
   "codemirror_mode": {
    "name": "ipython",
    "version": 3
   },
   "file_extension": ".py",
   "mimetype": "text/x-python",
   "name": "python",
   "nbconvert_exporter": "python",
   "pygments_lexer": "ipython3",
   "version": "3.7.11"
  }
 },
 "nbformat": 4,
 "nbformat_minor": 5
}
