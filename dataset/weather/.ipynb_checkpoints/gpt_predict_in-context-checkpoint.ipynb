{
 "cells": [
  {
   "cell_type": "code",
   "execution_count": null,
   "id": "1d0aa91f-ca94-4478-bf54-9f0c96d7da77",
   "metadata": {},
   "outputs": [],
   "source": [
    "import os\n",
    "import numpy as np\n",
    "import pickle as pkl\n",
    "from openai import OpenAI\n",
    "from sklearn.metrics import f1_score"
   ]
  },
  {
   "cell_type": "markdown",
   "id": "fbae18c8-3bdf-4ce9-8ce7-f27aff941d02",
   "metadata": {},
   "source": [
    "## Load Dataset"
   ]
  },
  {
   "cell_type": "code",
   "execution_count": null,
   "id": "894a4b0d-84a2-4819-bd23-b38462ae04b5",
   "metadata": {},
   "outputs": [],
   "source": [
    "city = 'ny'\n",
    "\n",
    "city_full_name = {\n",
    "    'ny': 'New York City',\n",
    "    'hs': 'Houston',\n",
    "    'sf': 'San Francisco'\n",
    "}"
   ]
  },
  {
   "cell_type": "code",
   "execution_count": null,
   "id": "182b5ba4-69bb-4fc4-bf22-677bd4b69d1b",
   "metadata": {},
   "outputs": [],
   "source": [
    "with open('indices.pkl', 'rb') as f:\n",
    "    indices = pkl.load(f)\n",
    "    \n",
    "with open('dates.pkl', 'rb') as f:\n",
    "    dates = pkl.load(f)\n",
    "    \n",
    "with open(f'time_series_{city}.pkl', 'rb') as f:\n",
    "    data = pkl.load(f)\n",
    "    \n",
    "with open(f'rain_{city}.pkl', 'rb') as f:\n",
    "    rains = pkl.load(f)\n",
    "    \n",
    "texts = {}\n",
    "for i in indices:\n",
    "    with open(os.path.join('gpt_summary', f'{city}_{i}.txt'), 'r') as f:\n",
    "        text = f.read()\n",
    "        texts[i] = text"
   ]
  },
  {
   "cell_type": "code",
   "execution_count": null,
   "id": "3abc7227-1ea6-4535-bd6d-f2c819faf547",
   "metadata": {},
   "outputs": [],
   "source": [
    "data_size = data.shape[0]\n",
    "window_size = 24\n",
    "print(data_size, window_size, len(indices))"
   ]
  },
  {
   "cell_type": "code",
   "execution_count": null,
   "id": "ca6b7147-a9ef-4217-a35c-6e67a3dd4425",
   "metadata": {},
   "outputs": [],
   "source": [
    "data_size = len(indices)\n",
    "\n",
    "num_train = int(data_size * 0.6)\n",
    "num_test = int(data_size * 0.2)\n",
    "num_vali = data_size - num_train - num_test\n",
    "\n",
    "seq_len_day = 1\n",
    "\n",
    "idx_train = np.arange(num_train - seq_len_day)\n",
    "idx_valid = np.arange(num_train - seq_len_day, num_train + num_vali - seq_len_day)\n",
    "idx_test = np.arange(num_train + num_vali - seq_len_day, num_train + num_vali + num_test - seq_len_day)"
   ]
  },
  {
   "cell_type": "code",
   "execution_count": null,
   "id": "0203cd44-8ee1-47b1-8370-b15692e4281d",
   "metadata": {},
   "outputs": [],
   "source": [
    "rain_ratio = np.mean([rains[i] for i in idx_train])\n",
    "rain_ratio"
   ]
  },
  {
   "cell_type": "code",
   "execution_count": null,
   "id": "87d81d43-aed8-485f-8896-c38ccc03cfdb",
   "metadata": {},
   "outputs": [],
   "source": [
    "with open(f'../../encoder/embeddings/weather_{city}.pkl', 'rb') as f:\n",
    "    embs = pkl.load(f)\n",
    "\n",
    "text_emb = {}\n",
    "for _i, i in enumerate(indices[:-1]):\n",
    "    text_emb[i] = embs[_i]"
   ]
  },
  {
   "cell_type": "markdown",
   "id": "f9d5de1b-ba99-4050-85bc-afbe94fdc670",
   "metadata": {},
   "source": [
    "## Prompt GPT 4"
   ]
  },
  {
   "cell_type": "code",
   "execution_count": null,
   "id": "550631f0-e956-419e-acc7-9468755f8ff9",
   "metadata": {},
   "outputs": [],
   "source": [
    "def cos(a, b):\n",
    "    cos_sim = np.dot(a, b)/(norm(a)*norm(b))\n",
    "    return cos_sim"
   ]
  },
  {
   "cell_type": "code",
   "execution_count": null,
   "id": "a14cf0e3-ba25-44c2-bef9-9bb797b56874",
   "metadata": {},
   "outputs": [],
   "source": [
    "# Number of in-context examples\n",
    "k = 5\n",
    "\n",
    "# OPEN AI API Key\n",
    "API_KEY = ''"
   ]
  },
  {
   "cell_type": "code",
   "execution_count": null,
   "id": "ddfd6cc3-e6c9-438b-ae45-d694b09d92e2",
   "metadata": {},
   "outputs": [],
   "source": [
    "system_prompt = f\"Your job is to act as a professional weather forecaster. You will be given a summary of the weather from the past 24 hours. Based on this information, your task is to predict whether it will rain in the next 24 hours.\"\n",
    "print(system_prompt)"
   ]
  },
  {
   "cell_type": "code",
   "execution_count": null,
   "id": "a9863734-a628-40fb-844b-0b37494645f7",
   "metadata": {},
   "outputs": [],
   "source": [
    "client = OpenAI(api_key=API_KEY)"
   ]
  },
  {
   "cell_type": "code",
   "execution_count": null,
   "id": "8092ebc2-a343-4018-a512-2703a602e8a4",
   "metadata": {
    "tags": []
   },
   "outputs": [],
   "source": [
    "random.seed(2024)\n",
    "\n",
    "for _i in idx_test:\n",
    "    i = indices[_i]\n",
    "    \n",
    "    user_prompt = f\"Your task is to predict whether it will rain or not in {city_full_name[city]} in the next {window_size} hours. \"\n",
    "    user_prompt += f\"First, review the following {k} examples of weather summaries and outcomes so that you can refer to when making predictions.\\n\\n\"\n",
    "    \n",
    "    sim = [-cos(text_emb[i], text_emb[indices[ii]]) for ii in idx_train]\n",
    "    _j_list = np.argsort(sim)\n",
    "    \n",
    "    references = {}\n",
    "    \n",
    "    for _k in range(k):\n",
    "        _j = _j_list[_k]\n",
    "        j = indices[_j]\n",
    "        \n",
    "        user_prompt += f\"Summary #{_k+1}: {texts[j]}\"\n",
    "        \n",
    "        if rains[_j+1]:\n",
    "            user_prompt += f\"\\nOutcome #{_k+1}: It rained.\\n\\n\"\n",
    "            references[_k+1] = True\n",
    "        else:\n",
    "            user_prompt += f\"\\nOutcome #{_k+1}: It did not rain.\\n\\n\"\n",
    "            references[_k+1] = False\n",
    "    \n",
    "    user_prompt += f\"The weather of the last 24 hours is summarized as follows:\\n\\n\"\n",
    "    user_prompt += f\"Summary: {texts[i]}\\n\"\n",
    "    user_prompt += f\"Outcome:\\n\\n\"\n",
    "\n",
    "    user_prompt += \"Based on the understanding of the provided examples, predict the outcome of the current weather summary. \"\n",
    "    user_prompt += \"Respond your prediction with either 'rain' or 'not rain'. \"\n",
    "    user_prompt += \"Response should not include other terms.\"\n",
    "    \n",
    "    response = client.chat.completions.create(\n",
    "        model=\"gpt-4-1106-preview\",\n",
    "        messages=[\n",
    "        {\n",
    "          \"role\": \"system\",\n",
    "          \"content\": system_prompt\n",
    "        },\n",
    "        {\n",
    "          \"role\": \"user\",\n",
    "          \"content\": user_prompt\n",
    "        }\n",
    "        ],\n",
    "        temperature=0.7,\n",
    "        max_tokens=2048,\n",
    "        top_p=1\n",
    "    )\n",
    "\n",
    "    text = response.choices[0].message.content\n",
    "    \n",
    "    with open(f'gpt_predict_in-context/{city}_k{k}_{i}_ref.txt', 'w') as f:\n",
    "        f.write(f'{text}')"
   ]
  },
  {
   "cell_type": "code",
   "execution_count": null,
   "id": "586860b3-3bbd-4b1a-ba2e-a07bd1a65786",
   "metadata": {},
   "outputs": [],
   "source": []
  }
 ],
 "metadata": {
  "kernelspec": {
   "display_name": "Python 3 (ipykernel)",
   "language": "python",
   "name": "python3"
  },
  "language_info": {
   "codemirror_mode": {
    "name": "ipython",
    "version": 3
   },
   "file_extension": ".py",
   "mimetype": "text/x-python",
   "name": "python",
   "nbconvert_exporter": "python",
   "pygments_lexer": "ipython3",
   "version": "3.7.11"
  }
 },
 "nbformat": 4,
 "nbformat_minor": 5
}
