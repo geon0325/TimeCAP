{
 "cells": [
  {
   "cell_type": "code",
   "execution_count": null,
   "id": "1d0aa91f-ca94-4478-bf54-9f0c96d7da77",
   "metadata": {},
   "outputs": [],
   "source": [
    "import os\n",
    "import numpy as np\n",
    "import pickle as pkl\n",
    "from openai import OpenAI"
   ]
  },
  {
   "cell_type": "markdown",
   "id": "983e03cb-5c27-4218-a640-03ecd3850bf0",
   "metadata": {},
   "source": [
    "## Load Dataset"
   ]
  },
  {
   "cell_type": "code",
   "execution_count": null,
   "id": "894a4b0d-84a2-4819-bd23-b38462ae04b5",
   "metadata": {},
   "outputs": [],
   "source": [
    "city = 'ny'\n",
    "\n",
    "city_full_name = {\n",
    "    'ny': 'New York City',\n",
    "    'hs': 'Houston',\n",
    "    'sf': 'San Francisco'\n",
    "}"
   ]
  },
  {
   "cell_type": "code",
   "execution_count": null,
   "id": "182b5ba4-69bb-4fc4-bf22-677bd4b69d1b",
   "metadata": {},
   "outputs": [],
   "source": [
    "with open('indices.pkl', 'rb') as f:\n",
    "    indices = pkl.load(f)\n",
    "    \n",
    "with open('dates.pkl', 'rb') as f:\n",
    "    dates = pkl.load(f)\n",
    "    \n",
    "with open(f'time_series_{city}.pkl', 'rb') as f:\n",
    "    data = pkl.load(f)"
   ]
  },
  {
   "cell_type": "code",
   "execution_count": null,
   "id": "3abc7227-1ea6-4535-bd6d-f2c819faf547",
   "metadata": {},
   "outputs": [],
   "source": [
    "data_size = data.shape[0]\n",
    "window_size = 24\n",
    "print(data_size, window_size, len(indices))"
   ]
  },
  {
   "cell_type": "markdown",
   "id": "c536315a-a659-4c4e-9bbf-fbe0ee6c7d2c",
   "metadata": {},
   "source": [
    "## Prompt GPT4"
   ]
  },
  {
   "cell_type": "code",
   "execution_count": null,
   "id": "b39123a5-f2df-47d2-bd03-7713f5a5780b",
   "metadata": {},
   "outputs": [],
   "source": [
    "API_KEY = ''"
   ]
  },
  {
   "cell_type": "code",
   "execution_count": null,
   "id": "ddfd6cc3-e6c9-438b-ae45-d694b09d92e2",
   "metadata": {},
   "outputs": [],
   "source": [
    "system_prompt = f\"Your job is to act as a professional weather analyst. You will write a high-quality report that is informative and helps in understanding the current weather situation.\"\n",
    "print(system_prompt)"
   ]
  },
  {
   "cell_type": "code",
   "execution_count": null,
   "id": "2639b368-c3e1-42c6-a434-994a2caacb69",
   "metadata": {},
   "outputs": [],
   "source": [
    "client = OpenAI(api_key=API_KEY)"
   ]
  },
  {
   "cell_type": "code",
   "execution_count": null,
   "id": "8092ebc2-a343-4018-a512-2703a602e8a4",
   "metadata": {
    "tags": []
   },
   "outputs": [],
   "source": [
    "for i in indices:\n",
    "    \n",
    "    data_window = data[i:i+window_size]\n",
    "    \n",
    "    humidity = '|'.join([f\"{x:.2f}\" for x in data_window[:,0]])\n",
    "    pressure = '|'.join([f\"{x:.2f}\" for x in data_window[:,1]])\n",
    "    temperature = '|'.join([f\"{x:.2f}\" for x in data_window[:,2]])\n",
    "    wind_speed = '|'.join([f\"{x:.2f}\" for x in data_window[:,3]])\n",
    "    wind_direction = '|'.join([f\"{x:.2f}\" for x in data_window[:,4]])\n",
    "\n",
    "    user_prompt = f\"Your task is to analyze key weather indicators in {city_full_name[city]} over the last {window_size} hours.\"\n",
    "    user_prompt += f\"\\n\\nReview the time-series data provided for the last {window_size} hours. \"\n",
    "    user_prompt += f\"Each time-series consists of hourly values separated by a \\'|\\' token for the following indicators:\\n\"\n",
    "    user_prompt += f\"- Temperature (Kelvin): {temperature}\\n- Humidity (%): {humidity}\\n- Air Pressure (hPa): {pressure}\\n- Wind Speed (m/s): {wind_speed}\\n- Wind Direction (degrees): {wind_direction}\\n\\n\"\n",
    "    user_prompt += f\"Based on this time-series data, write a concise report that provides insights crucial for understanding the current weather situation. \"\n",
    "    user_prompt += f\"Your report should be limited to five sentences, yet comprehensive, highlighting key trends and considering their potential impact on the weather in {city_full_name[city]}.\"\n",
    "    user_prompt += f\"Do not write numerical values while writing the report.\"\n",
    "    \n",
    "    response = client.chat.completions.create(\n",
    "        model=\"gpt-4-1106-preview\",\n",
    "        messages=[\n",
    "        {\n",
    "          \"role\": \"system\",\n",
    "          \"content\": system_prompt\n",
    "        },\n",
    "        {\n",
    "          \"role\": \"user\",\n",
    "          \"content\": user_prompt\n",
    "        }\n",
    "        ],\n",
    "        temperature=0.7,\n",
    "        max_tokens=2048,\n",
    "        top_p=1\n",
    "    )\n",
    "\n",
    "    text = response.choices[0].message.content\n",
    "\n",
    "    with open(f'gpt_summary/{city}_{i}.txt', 'w') as f:\n",
    "        f.write(text)"
   ]
  },
  {
   "cell_type": "code",
   "execution_count": null,
   "id": "accb826b-d8e1-4888-93b6-505d84cfd3ff",
   "metadata": {},
   "outputs": [],
   "source": []
  }
 ],
 "metadata": {
  "kernelspec": {
   "display_name": "Python 3 (ipykernel)",
   "language": "python",
   "name": "python3"
  },
  "language_info": {
   "codemirror_mode": {
    "name": "ipython",
    "version": 3
   },
   "file_extension": ".py",
   "mimetype": "text/x-python",
   "name": "python",
   "nbconvert_exporter": "python",
   "pygments_lexer": "ipython3",
   "version": "3.7.11"
  }
 },
 "nbformat": 4,
 "nbformat_minor": 5
}
