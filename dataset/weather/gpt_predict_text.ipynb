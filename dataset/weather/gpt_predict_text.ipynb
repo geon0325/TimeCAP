{
 "cells": [
  {
   "cell_type": "code",
   "execution_count": null,
   "id": "1d0aa91f-ca94-4478-bf54-9f0c96d7da77",
   "metadata": {},
   "outputs": [],
   "source": [
    "import os\n",
    "import numpy as np\n",
    "import pickle as pkl\n",
    "from openai import OpenAI"
   ]
  },
  {
   "cell_type": "markdown",
   "id": "4e8aa1c3-c750-4b39-8f6a-2ce68936d09d",
   "metadata": {},
   "source": [
    "## Load Dataset"
   ]
  },
  {
   "cell_type": "code",
   "execution_count": null,
   "id": "894a4b0d-84a2-4819-bd23-b38462ae04b5",
   "metadata": {},
   "outputs": [],
   "source": [
    "city = 'ny'\n",
    "\n",
    "city_full_name = {\n",
    "    'ny': 'New York City',\n",
    "    'hs': 'Houston',\n",
    "    'sf': 'San Francisco'\n",
    "}"
   ]
  },
  {
   "cell_type": "code",
   "execution_count": null,
   "id": "182b5ba4-69bb-4fc4-bf22-677bd4b69d1b",
   "metadata": {},
   "outputs": [],
   "source": [
    "with open('indices.pkl', 'rb') as f:\n",
    "    indices = pkl.load(f)\n",
    "    \n",
    "with open('dates.pkl', 'rb') as f:\n",
    "    dates = pkl.load(f)\n",
    "    \n",
    "with open(f'time_series_{city}.pkl', 'rb') as f:\n",
    "    data = pkl.load(f)\n",
    "    \n",
    "texts = {}\n",
    "for i in indices:\n",
    "    with open(os.path.join('gpt_summary', f'{city}_{i}.txt'), 'r') as f:\n",
    "        text = f.read()\n",
    "        texts[i] = text"
   ]
  },
  {
   "cell_type": "code",
   "execution_count": null,
   "id": "3abc7227-1ea6-4535-bd6d-f2c819faf547",
   "metadata": {},
   "outputs": [],
   "source": [
    "data_size = data.shape[0]\n",
    "window_size = 24\n",
    "print(data_size, window_size, len(indices))"
   ]
  },
  {
   "cell_type": "code",
   "execution_count": null,
   "id": "ca6b7147-a9ef-4217-a35c-6e67a3dd4425",
   "metadata": {},
   "outputs": [],
   "source": [
    "data_size = len(indices)\n",
    "\n",
    "num_train = int(data_size * 0.6)\n",
    "num_test = int(data_size * 0.2)\n",
    "num_vali = data_size - num_train - num_test\n",
    "\n",
    "seq_len_day = 1\n",
    "\n",
    "idx_train = np.arange(num_train - seq_len_day)\n",
    "idx_valid = np.arange(num_train - seq_len_day, num_train + num_vali - seq_len_day)\n",
    "idx_test = np.arange(num_train + num_vali - seq_len_day, num_train + num_vali + num_test - seq_len_day)"
   ]
  },
  {
   "cell_type": "markdown",
   "id": "6867c81f-168f-49c1-939e-9e917bcab868",
   "metadata": {},
   "source": [
    "## Prompt GPT 4"
   ]
  },
  {
   "cell_type": "code",
   "execution_count": null,
   "id": "4c5b012a-479c-4520-ab60-c871ceb3c357",
   "metadata": {},
   "outputs": [],
   "source": [
    "API_KEY = ''"
   ]
  },
  {
   "cell_type": "code",
   "execution_count": null,
   "id": "ddfd6cc3-e6c9-438b-ae45-d694b09d92e2",
   "metadata": {},
   "outputs": [],
   "source": [
    "system_prompt = f\"Your job is to act as a professional weather forecaster. You will be given a summary of the weather from the past 24 hours. Based on this information, your task is to predict whether it will rain in the next 24 hours.\"\n",
    "print(system_prompt)"
   ]
  },
  {
   "cell_type": "code",
   "execution_count": null,
   "id": "2639b368-c3e1-42c6-a434-994a2caacb69",
   "metadata": {},
   "outputs": [],
   "source": [
    "client = OpenAI(api_key=API_KEY)"
   ]
  },
  {
   "cell_type": "code",
   "execution_count": null,
   "id": "8092ebc2-a343-4018-a512-2703a602e8a4",
   "metadata": {
    "tags": []
   },
   "outputs": [],
   "source": [
    "for _i in idx_test:\n",
    "    i = indices[_i]\n",
    "    \n",
    "    user_prompt = f\"Your task is to predict whether it will rain or not in {city_full_name[city]} in the next {window_size} hours.\"\n",
    "    user_prompt += f\" The weather of the past 24 hours is summarized as follows:\\n\\n\"\n",
    "    user_prompt += f\"{texts[i]}\\n\\n\"\n",
    "    user_prompt += f\"Based on this information, respond with either \\'rain\\' or \\'not rain\\'. Do not provide any other details. \"\n",
    "    \n",
    "    response = client.chat.completions.create(\n",
    "        model=\"gpt-4-1106-preview\",\n",
    "        messages=[\n",
    "        {\n",
    "          \"role\": \"system\",\n",
    "          \"content\": system_prompt\n",
    "        },\n",
    "        {\n",
    "          \"role\": \"user\",\n",
    "          \"content\": user_prompt\n",
    "        }\n",
    "        ],\n",
    "        temperature=0.7,\n",
    "        max_tokens=2048,\n",
    "        top_p=1\n",
    "    )\n",
    "\n",
    "    text = response.choices[0].message.content\n",
    "    \n",
    "    with open(f'gpt_predict_text/{city}_{i}.txt', 'w') as f:\n",
    "        f.write(text)"
   ]
  }
 ],
 "metadata": {
  "kernelspec": {
   "display_name": "Python 3 (ipykernel)",
   "language": "python",
   "name": "python3"
  },
  "language_info": {
   "codemirror_mode": {
    "name": "ipython",
    "version": 3
   },
   "file_extension": ".py",
   "mimetype": "text/x-python",
   "name": "python",
   "nbconvert_exporter": "python",
   "pygments_lexer": "ipython3",
   "version": "3.7.11"
  }
 },
 "nbformat": 4,
 "nbformat_minor": 5
}
