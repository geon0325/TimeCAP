{
 "cells": [
  {
   "cell_type": "code",
   "execution_count": 1,
   "id": "cf499fc9-b93d-48e3-9bfe-576b04fe383d",
   "metadata": {},
   "outputs": [],
   "source": [
    "import numpy as np\n",
    "import matplotlib.pyplot as plt"
   ]
  },
  {
   "cell_type": "code",
   "execution_count": 37,
   "id": "4c6c9105-8059-4e5d-a388-128d4ec502a9",
   "metadata": {},
   "outputs": [],
   "source": [
    "datasets = ['Weather\\n(NY)', 'Weather\\n(SF)', 'Weather\\n(HS)', 'Finance\\n(SP)', 'Finance\\n(NK)', 'Healthcare\\n(MT)', 'Healthcare\\n(TP)']\n",
    "model_names = ['Predict', 'Contextualize & Predict', 'Contextualize, Augment, & Predict']\n",
    "f1_scores = {\n",
    "    'Weather\\n(NY)': [0.4985, 0.6251, 0.6457],\n",
    "    'Weather\\n(SF)': [0.5104, 0.6029, 0.6256],\n",
    "    'Weather\\n(HS)': [0.4124, 0.5441, 0.5779],\n",
    "    'Finance\\n(SP)': [0.2764, 0.3304, 0.3409],\n",
    "    'Finance\\n(NK)': [0.3325, 0.3564, 0.4013],\n",
    "    'Healthcare\\n(MT)': [0.6950, 0.8419, 0.9229],\n",
    "    'Healthcare\\n(TP)': [0.7269, 0.9492, 0.9610]\n",
    "}"
   ]
  },
  {
   "cell_type": "code",
   "execution_count": 77,
   "id": "b2c5aacc-e2bf-439f-9d54-0c4192ea55fc",
   "metadata": {},
   "outputs": [],
   "source": [
    "datasets = ['NY', 'SF', 'HS', 'SP', 'NK', 'MT', 'TP']\n",
    "model_names = ['Predict', 'Contextualize & Predict', 'Contextualize, Augment, & Predict']\n",
    "f1_scores = {\n",
    "    'NY': [0.4985, 0.6251, 0.6457],\n",
    "    'SF': [0.5104, 0.6029, 0.6256],\n",
    "    'HS': [0.4124, 0.5441, 0.5779],\n",
    "    'SP': [0.2764, 0.3304, 0.3409],\n",
    "    'NK': [0.3325, 0.3564, 0.4013],\n",
    "    'MT': [0.6950, 0.8419, 0.9229],\n",
    "    'TP': [0.7269, 0.9492, 0.9610]\n",
    "}"
   ]
  },
  {
   "cell_type": "code",
   "execution_count": 82,
   "id": "a4c27bea-6fbc-4a52-96f1-518f36b37392",
   "metadata": {},
   "outputs": [
    {
     "data": {
      "image/png": "[encoded data removed]",
      "text/plain": [
       "<Figure size 360x216 with 1 Axes>"
      ]
     },
     "metadata": {
      "needs_background": "light"
     },
     "output_type": "display_data"
    }
   ],
   "source": [
    "# Plotting with removal of top and right lines\n",
    "\n",
    "# Plotting\n",
    "fig, ax = plt.subplots(figsize=(5, 3))\n",
    "\n",
    "# Updated colors for better distinction and edge colors for each bar\n",
    "colors = ['#3a66b1', '#72b049', '#ffaa33']\n",
    "\n",
    "\n",
    "# Plotting bars for each model with edge colors\n",
    "for i, model in enumerate(model_names):\n",
    "    scores = [f1_scores[dataset][i] for dataset in datasets]\n",
    "    ax.bar(index + i * bar_width, scores, bar_width, label=model, color=colors[i], edgecolor='k', linewidth=0.5, zorder=3)\n",
    "\n",
    "# Adding labels and customizations (no title, straight x labels, no numbers)\n",
    "ax.set_xlabel('Datasets', fontsize=18)\n",
    "ax.set_ylabel('F1 Score', fontsize=20)\n",
    "ax.set_xticks(index + bar_width)\n",
    "ax.set_xticklabels(datasets, ha='center', fontsize=18)\n",
    "ax.set_yticks(np.arange(0, 1.1, 0.2))\n",
    "ax.tick_params(axis='y', labelsize=18)\n",
    "#ax.legend(fontsize=20)\n",
    "ax.grid(True, axis='y', linestyle='--', alpha=0.6, zorder=0)\n",
    "\n",
    "# Removing top and right lines\n",
    "ax.spines['top'].set_visible(False)\n",
    "ax.spines['right'].set_visible(False)\n",
    "\n",
    "# Show the plot\n",
    "plt.tight_layout()\n",
    "plt.savefig('figures/CAP.pdf')\n"
   ]
  },
  {
   "cell_type": "code",
   "execution_count": 79,
   "id": "d8218fda-9d25-470f-bac3-0dd7c4985514",
   "metadata": {},
   "outputs": [
    {
     "name": "stdout",
     "output_type": "stream",
     "text": [
      "21.98539010200799\n",
      "28.75059374664502\n"
     ]
    }
   ],
   "source": [
    "P = [f1_scores[f][0] for f in f1_scores]\n",
    "CP = [f1_scores[f][1] for f in f1_scores]\n",
    "CAP = [f1_scores[f][2] for f in f1_scores]\n",
    "\n",
    "rate = []\n",
    "for i in range(7):\n",
    "    inc = (CP[i] - P[i]) / P[i] * 100\n",
    "    rate.append(inc)\n",
    "print(np.mean(rate))\n",
    "\n",
    "rate = []\n",
    "for i in range(7):\n",
    "    inc = (CAP[i] - P[i]) / P[i] * 100\n",
    "    rate.append(inc)\n",
    "print(np.mean(rate))"
   ]
  },
  {
   "cell_type": "code",
   "execution_count": null,
   "id": "801c34e9-b3d9-485c-b603-ab90206d1dd8",
   "metadata": {},
   "outputs": [],
   "source": []
  },
  {
   "cell_type": "code",
   "execution_count": null,
   "id": "0c556b1a-0411-47c7-9f17-2b70d2ceb4e1",
   "metadata": {},
   "outputs": [],
   "source": []
  },
  {
   "cell_type": "code",
   "execution_count": null,
   "id": "aa25f66d-2a8e-43d0-8231-f254cc2c2d45",
   "metadata": {},
   "outputs": [],
   "source": []
  },
  {
   "cell_type": "code",
   "execution_count": 8,
   "id": "92e4dc96-b00a-4d0a-a782-4ee684b1aa84",
   "metadata": {},
   "outputs": [
    {
     "data": {
      "image/png": "[encoded data removed]",
      "text/plain": [
       "<Figure size 432x288 with 1 Axes>"
      ]
     },
     "metadata": {
      "needs_background": "light"
     },
     "output_type": "display_data"
    }
   ],
   "source": [
    "import matplotlib.pyplot as plt\n",
    "import numpy as np\n",
    "\n",
    "# Sample data\n",
    "configs = ['60%', '6%', '0%']\n",
    "methods = ['TimeCAP', 'PatchTST', 'GPT4TS']\n",
    "\n",
    "# Results for each method and configuration\n",
    "results = {\n",
    "    'TimeCAP': [0.641, 0.601, 0.591],\n",
    "    'PatchTST': [0.576, 0.537, 0],\n",
    "    'GPT4TS': [0.554, 0.512, 0]\n",
    "}\n",
    "\n",
    "# Ensure all methods have results for all configs (using NaN for missing values)\n",
    "for method in methods:\n",
    "    if method not in results:\n",
    "        results[method] = [np.nan] * len(configs)\n",
    "    else:\n",
    "        results[method] += [np.nan] * (len(configs) - len(results[method]))\n",
    "\n",
    "# Convert the results into a 2D array\n",
    "data = np.array([results[method] for method in methods])\n",
    "\n",
    "# Set up the bar chart\n",
    "x = np.arange(len(configs))  # the label locations\n",
    "width = 0.22\n",
    "\n",
    "fig, ax = plt.subplots()\n",
    "rects = []\n",
    "for i, method in enumerate(methods):\n",
    "    rects.append(ax.bar(x + i * width, data[i], width, label=method))\n",
    "\n",
    "# Add some text for labels, title, and custom x-axis tick labels, etc.\n",
    "# Adding labels and customizations (no title, straight x labels, no numbers)\n",
    "ax.set_xlabel('Datasets', fontsize=18)\n",
    "ax.set_ylabel('F1 Score', fontsize=20)\n",
    "#ax.set_xticks(index + bar_width)\n",
    "#ax.set_xticklabels(datasets, ha='center', fontsize=18)\n",
    "ax.set_yticks(np.arange(0, 0.7, 0.2))\n",
    "ax.tick_params(axis='y', labelsize=18)\n",
    "#ax.legend(fontsize=20)\n",
    "ax.grid(True, axis='y', linestyle='--', alpha=0.6, zorder=0)\n",
    "\n",
    "# Removing top and right lines\n",
    "ax.spines['top'].set_visible(False)\n",
    "ax.spines['right'].set_visible(False)\n",
    "\n",
    "\n",
    "\n",
    "fig.tight_layout()\n",
    "\n",
    "plt.show()\n"
   ]
  },
  {
   "cell_type": "code",
   "execution_count": null,
   "id": "e1f89793-0deb-4cc7-9f0b-eebabb216c5a",
   "metadata": {},
   "outputs": [],
   "source": [
    "# Plotting with removal of top and right lines\n",
    "\n",
    "# Plotting\n",
    "fig, ax = plt.subplots(figsize=(5, 3))\n",
    "\n",
    "# Updated colors for better distinction and edge colors for each bar\n",
    "colors = ['#3a66b1', '#72b049', '#ffaa33']\n",
    "\n",
    "\n",
    "# Plotting bars for each model with edge colors\n",
    "for i, model in enumerate(model_names):\n",
    "    scores = [f1_scores[dataset][i] for dataset in datasets]\n",
    "    ax.bar(index + i * bar_width, scores, bar_width, label=model, color=colors[i], edgecolor='k', linewidth=0.5, zorder=3)\n",
    "\n",
    "# Adding labels and customizations (no title, straight x labels, no numbers)\n",
    "ax.set_xlabel('Datasets', fontsize=18)\n",
    "ax.set_ylabel('F1 Score', fontsize=20)\n",
    "ax.set_xticks(index + bar_width)\n",
    "ax.set_xticklabels(datasets, ha='center', fontsize=18)\n",
    "ax.set_yticks(np.arange(0, 1.1, 0.2))\n",
    "ax.tick_params(axis='y', labelsize=18)\n",
    "#ax.legend(fontsize=20)\n",
    "ax.grid(True, axis='y', linestyle='--', alpha=0.6, zorder=0)\n",
    "\n",
    "# Removing top and right lines\n",
    "ax.spines['top'].set_visible(False)\n",
    "ax.spines['right'].set_visible(False)\n",
    "\n",
    "# Show the plot\n",
    "plt.tight_layout()\n",
    "plt.savefig('figures/CAP.pdf')\n"
   ]
  }
 ],
 "metadata": {
  "kernelspec": {
   "display_name": "Python 3 (ipykernel)",
   "language": "python",
   "name": "python3"
  },
  "language_info": {
   "codemirror_mode": {
    "name": "ipython",
    "version": 3
   },
   "file_extension": ".py",
   "mimetype": "text/x-python",
   "name": "python",
   "nbconvert_exporter": "python",
   "pygments_lexer": "ipython3",
   "version": "3.7.11"
  }
 },
 "nbformat": 4,
 "nbformat_minor": 5
}
