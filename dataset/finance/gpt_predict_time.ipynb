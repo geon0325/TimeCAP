{
 "cells": [
  {
   "cell_type": "code",
   "execution_count": null,
   "id": "1d0aa91f-ca94-4478-bf54-9f0c96d7da77",
   "metadata": {},
   "outputs": [],
   "source": [
    "import os\n",
    "import numpy as np\n",
    "import pickle as pkl\n",
    "from openai import OpenAI"
   ]
  },
  {
   "cell_type": "markdown",
   "id": "264aaf7c-f4f0-489f-80d3-cf0db1770c17",
   "metadata": {},
   "source": [
    "## Load Dataset"
   ]
  },
  {
   "cell_type": "code",
   "execution_count": null,
   "id": "1d4a282c-d11e-4436-b52f-c1221ef70a0b",
   "metadata": {},
   "outputs": [],
   "source": [
    "indicator = 'sp500'\n",
    "\n",
    "indicator2name = {\n",
    "    'sp500': 'S&P 500',\n",
    "    'nikkei': 'Nikkei 225'\n",
    "}"
   ]
  },
  {
   "cell_type": "code",
   "execution_count": null,
   "id": "182b5ba4-69bb-4fc4-bf22-677bd4b69d1b",
   "metadata": {},
   "outputs": [],
   "source": [
    "with open('indices.pkl', 'rb') as f:\n",
    "    indices = pkl.load(f)\n",
    "\n",
    "with open(f'time_series.pkl', 'rb') as f:\n",
    "    data = pkl.load(f)"
   ]
  },
  {
   "cell_type": "code",
   "execution_count": null,
   "id": "4e9fb860-584c-468d-98b3-b8eec0efe042",
   "metadata": {},
   "outputs": [],
   "source": [
    "data_size = data.shape[0]\n",
    "window_size = 20\n",
    "print(data_size, window_size, len(indices))"
   ]
  },
  {
   "cell_type": "code",
   "execution_count": null,
   "id": "467934d5-c092-4bbc-b559-bad0e93374ae",
   "metadata": {},
   "outputs": [],
   "source": [
    "data_size = len(indices)\n",
    "\n",
    "num_train = int(data_size * 0.6)\n",
    "num_test = int(data_size * 0.2)\n",
    "num_vali = data_size - num_train - num_test\n",
    "\n",
    "idx_train = np.arange(num_train)\n",
    "idx_valid = np.arange(num_train, num_train + num_vali)\n",
    "idx_test = np.arange(num_train + num_vali, num_train + num_vali + num_test)"
   ]
  },
  {
   "cell_type": "markdown",
   "id": "f833fbe1-ba8a-4183-9b51-0023860da033",
   "metadata": {},
   "source": [
    "## Prompt GPT 4"
   ]
  },
  {
   "cell_type": "code",
   "execution_count": null,
   "id": "b89f015a-73dc-4785-a8f6-88a13e6c7395",
   "metadata": {},
   "outputs": [],
   "source": [
    "API_KEY = ''"
   ]
  },
  {
   "cell_type": "code",
   "execution_count": null,
   "id": "ddfd6cc3-e6c9-438b-ae45-d694b09d92e2",
   "metadata": {},
   "outputs": [],
   "source": [
    "system_prompt = f\"Your job is to act as a professional financial forecaster. You will be given a time-series data from the past 20 market days. Based on this information, your task is to predict whether the {indicator2name[indicator]} price will decrease by more than 1%, increase by more than 1%, or change minimally in the next market day.\"\n",
    "print(system_prompt)"
   ]
  },
  {
   "cell_type": "code",
   "execution_count": null,
   "id": "2639b368-c3e1-42c6-a434-994a2caacb69",
   "metadata": {},
   "outputs": [],
   "source": [
    "client = OpenAI(api_key=API_KEY)"
   ]
  },
  {
   "cell_type": "code",
   "execution_count": null,
   "id": "8092ebc2-a343-4018-a512-2703a602e8a4",
   "metadata": {
    "tags": []
   },
   "outputs": [],
   "source": [
    "for _i in idx_test:\n",
    "    i = indices[_i]\n",
    "    \n",
    "    data_window = data[i:i+window_size]\n",
    "    \n",
    "    s_p_500 = '|'.join([f\"{x:.2f}\" for x in data_window[:,1]])\n",
    "    vix = '|'.join([f\"{x:.2f}\" for x in data_window[:,2]])\n",
    "    nikkei_225 = '|'.join([f\"{x:.2f}\" for x in data_window[:,3]])\n",
    "    ftse_100 = '|'.join([f\"{x:.2f}\" for x in data_window[:,4]])\n",
    "    gold_futures = '|'.join([f\"{x:.2f}\" for x in data_window[:,5]])\n",
    "    crude_oil_futures = '|'.join([f\"{x:.2f}\" for x in data_window[:,6]])\n",
    "    eur_usd = '|'.join([f\"{x:.2f}\" for x in data_window[:,7]])\n",
    "    usd_jpy = '|'.join([f\"{x:.2f}\" for x in data_window[:,8]])\n",
    "    usd_cny = '|'.join([f\"{x:.2f}\" for x in data_window[:,9]])\n",
    "    \n",
    "    user_prompt = f\"Your task is to predict whether the {indicator2name[indicator]} price will:\\n\"\n",
    "    user_prompt += f\"(1) Decrease: decrease by more than 1%\\n(2) Increase: increase by more than 1%\\n(3) Neutral: change minimally, between -1% to 1%\\nin the next market day. \"\n",
    "    user_prompt += f\"Review the time-series data provided for the last {window_size} market days. \"\n",
    "    user_prompt += f\"Each time-series consists of daily values separated by a \\'|\\' token for the following indicators:\\n\\n\"\n",
    "    user_prompt += f\"- S&P 500: {s_p_500}\\n- VIX (Volatility Index): {vix}\\n- Nikkei 225: {nikkei_225}\\n- FTSE 100: {ftse_100}\\n- Gold Futures: {gold_futures}\\n- Crude Oil Futures: {crude_oil_futures}\\n- Exchange rate for EUR/USD: {eur_usd}\\n- Exchange rate for USD/JYP: {usd_jpy}\\n- Exchange rate for USD/CNY: {usd_cny}\\n\\n\"\n",
    "    user_prompt += f\"Based on this information, predict whether the {indicator2name[indicator]} price will decrease by more than 1%, increase by more than 1%, or otherwise, in the next market day. \"\n",
    "    user_prompt += f\"Respond with either \\'decrease\\', \\'increase\\', or \\'neutral\\'. Do not provide any other details. \"\n",
    "    \n",
    "    response = client.chat.completions.create(\n",
    "        model=\"gpt-4-1106-preview\",\n",
    "        messages=[\n",
    "        {\n",
    "          \"role\": \"system\",\n",
    "          \"content\": system_prompt\n",
    "        },\n",
    "        {\n",
    "          \"role\": \"user\",\n",
    "          \"content\": user_prompt\n",
    "        }\n",
    "        ],\n",
    "        temperature=0.7,\n",
    "        max_tokens=2048,\n",
    "        top_p=1\n",
    "    )\n",
    "\n",
    "    text = response.choices[0].message.content\n",
    "\n",
    "    with open(f'gpt_predict_time/{i}_{indicator}.txt', 'w') as f:\n",
    "        f.write(text)"
   ]
  },
  {
   "cell_type": "code",
   "execution_count": null,
   "id": "13693626-efeb-452a-b786-aa7d5651711f",
   "metadata": {},
   "outputs": [],
   "source": []
  }
 ],
 "metadata": {
  "kernelspec": {
   "display_name": "Python 3 (ipykernel)",
   "language": "python",
   "name": "python3"
  },
  "language_info": {
   "codemirror_mode": {
    "name": "ipython",
    "version": 3
   },
   "file_extension": ".py",
   "mimetype": "text/x-python",
   "name": "python",
   "nbconvert_exporter": "python",
   "pygments_lexer": "ipython3",
   "version": "3.7.11"
  }
 },
 "nbformat": 4,
 "nbformat_minor": 5
}
