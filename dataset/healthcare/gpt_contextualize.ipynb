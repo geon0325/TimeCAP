{
 "cells": [
  {
   "cell_type": "code",
   "execution_count": null,
   "id": "1d0aa91f-ca94-4478-bf54-9f0c96d7da77",
   "metadata": {},
   "outputs": [],
   "source": [
    "import os\n",
    "import numpy as np\n",
    "import pickle as pkl\n",
    "from openai import OpenAI"
   ]
  },
  {
   "cell_type": "markdown",
   "id": "5f4754d8-878c-4b3e-82e9-253220e451f1",
   "metadata": {},
   "source": [
    "## Load Dataset"
   ]
  },
  {
   "cell_type": "code",
   "execution_count": null,
   "id": "1e12b067-a5f5-4bfe-926a-6d6ebf878f7c",
   "metadata": {},
   "outputs": [],
   "source": [
    "indicator = 'positive'"
   ]
  },
  {
   "cell_type": "code",
   "execution_count": null,
   "id": "ca6b7147-a9ef-4217-a35c-6e67a3dd4425",
   "metadata": {},
   "outputs": [],
   "source": [
    "with open(f'time_series_{indicator}.pkl', 'rb') as f:\n",
    "    data = pkl.load(f)\n",
    "    \n",
    "with open(f'indices_{indicator}.pkl', 'rb') as f:\n",
    "    indices = pkl.load(f)"
   ]
  },
  {
   "cell_type": "code",
   "execution_count": null,
   "id": "4e9fb860-584c-468d-98b3-b8eec0efe042",
   "metadata": {},
   "outputs": [],
   "source": [
    "data_size = data.shape[0]\n",
    "window_size = 20\n",
    "print(data_size, data.shape, window_size)"
   ]
  },
  {
   "cell_type": "markdown",
   "id": "beed21e5-cdb9-4495-9215-f29b1c881aef",
   "metadata": {},
   "source": [
    "## Prompt GPT 4"
   ]
  },
  {
   "cell_type": "code",
   "execution_count": null,
   "id": "3d2b38ad-1244-4457-b730-dfc4a02afe53",
   "metadata": {},
   "outputs": [],
   "source": [
    "API_KEY = ''"
   ]
  },
  {
   "cell_type": "code",
   "execution_count": null,
   "id": "92d39b6f-adc1-48f0-beda-a2e3b59f5689",
   "metadata": {},
   "outputs": [],
   "source": [
    "system_prompt = f\"Your job is to act as a professional healthcare analyst. You will write a high-quality report that is informative and helps understand the current healthcare situation.\"\n",
    "print(system_prompt)"
   ]
  },
  {
   "cell_type": "code",
   "execution_count": null,
   "id": "2639b368-c3e1-42c6-a434-994a2caacb69",
   "metadata": {},
   "outputs": [],
   "source": [
    "client = OpenAI(api_key=API_KEY)"
   ]
  },
  {
   "cell_type": "code",
   "execution_count": null,
   "id": "8092ebc2-a343-4018-a512-2703a602e8a4",
   "metadata": {
    "tags": []
   },
   "outputs": [],
   "source": [
    "for i in indices:\n",
    "    \n",
    "    data_window = data[i:i+window_size]\n",
    "    \n",
    "    if indicator == 'positive':\n",
    "        total_specimens = '|'.join([x for x in data_window[:,1]])\n",
    "        total_a = '|'.join([x for x in data_window[:,2]])\n",
    "        total_b = '|'.join([x for x in data_window[:,3]])\n",
    "        pos_rate = '|'.join([str(f'{float(x):.2f}') for x in data_window[:,4]])\n",
    "        a_rate = '|'.join([str(f'{float(x):.2f}') for x in data_window[:,5]])\n",
    "        b_rate = '|'.join([str(f'{float(x):.2f}') for x in data_window[:,6]])\n",
    "    \n",
    "    elif indicator == 'mortality':\n",
    "        inf_death = '|'.join([x for x in data_window[:,1]])\n",
    "        pneum_death = '|'.join([x for x in data_window[:,2]])\n",
    "        total_death = '|'.join([x for x in data_window[:,3]])\n",
    "        ratio = '|'.join([str(f'{float(x):.2f}') for x in data_window[:,4]])\n",
    "    \n",
    "    if indicator == 'positive':\n",
    "        user_prompt = f\"Your task is to analyze the respiratory specimens testing positive for influenza over the last {window_size} weeks. \"\n",
    "        user_prompt += \"The average ratio of positive speciemens is 6.26%.\"\n",
    "        user_prompt += f\"\\n\\nReview the time-series data provided for the last {window_size} weeks. \"\n",
    "        user_prompt += f\"Each time-series consists of weekly values separated by a \\'|\\' token for the following indicators:\\n\"\n",
    "        user_prompt += f\"- Number of specimens tested: {total_specimens}\\n\"\n",
    "        user_prompt += f\"- Number of positive specimens for Influenza A: {total_a}\\n\"\n",
    "        user_prompt += f\"- Number of positive specimens for Influenza B: {total_b}\\n\"\n",
    "        user_prompt += f\"- Ratio of positive specimens (%): {pos_rate}\\n\"\n",
    "        user_prompt += f\"- Ratio of positive specimens for Influenza A (%): {a_rate}\\n\"\n",
    "        user_prompt += f\"- Ratio of positive specimens for Influenza B (%): {b_rate}\\n\\n\"\n",
    "    \n",
    "    elif indicator == 'mortality':\n",
    "        user_prompt = f\"Your task is to analyze the mortality from Influenza or Pneumonia over the last {window_size} weeks. \"\n",
    "        user_prompt += \"The average ratio of mortality from Influenza or Pneumonia to the total number of death is 7.84%.\"\n",
    "        user_prompt += f\"\\n\\nReview the time-series data provided for the last {window_size} weeks. \"\n",
    "        user_prompt += f\"Each time-series consists of weekly values separated by a \\'|\\' token for the following indicators:\\n\"\n",
    "        user_prompt += f\"- Total number of death: {total_death}\\n\"\n",
    "        user_prompt += f\"- Number of death from influenza: {inf_death}\\n\"\n",
    "        user_prompt += f\"- Number of death from pneumonia: {pneum_death}\\n\"\n",
    "        user_prompt += f\"- Ratio of mortality from Influenza or Pneumonia (%): {ratio}\\n\\n\"\n",
    "        \n",
    "    user_prompt += f\"Based on this time-series data, write a concise report that provides insights crucial for understanding the current healthcare situation. \"\n",
    "    user_prompt += f\"Your report should be limited to five sentences, yet comprehensive, highlighting key trends and considering their potential impact on the healthcare system. \"\n",
    "    user_prompt += f\"Do not write redundant information.\"\n",
    "    \n",
    "    response = client.chat.completions.create(\n",
    "        model=\"gpt-4-1106-preview\",\n",
    "        messages=[\n",
    "        {\n",
    "          \"role\": \"system\",\n",
    "          \"content\": system_prompt\n",
    "        },\n",
    "        {\n",
    "          \"role\": \"user\",\n",
    "          \"content\": user_prompt\n",
    "        }\n",
    "        ],\n",
    "        temperature=0.7,\n",
    "        max_tokens=2048,\n",
    "        top_p=1\n",
    "    )\n",
    "\n",
    "    text = response.choices[0].message.content\n",
    "    \n",
    "    with open(f'gpt_summary/{i}_{indicator}.txt', 'w') as f:\n",
    "        f.write(text)"
   ]
  },
  {
   "cell_type": "code",
   "execution_count": null,
   "id": "eaea559f-a53b-42e7-baa2-d1b4f524465e",
   "metadata": {},
   "outputs": [],
   "source": []
  }
 ],
 "metadata": {
  "kernelspec": {
   "display_name": "Python 3 (ipykernel)",
   "language": "python",
   "name": "python3"
  },
  "language_info": {
   "codemirror_mode": {
    "name": "ipython",
    "version": 3
   },
   "file_extension": ".py",
   "mimetype": "text/x-python",
   "name": "python",
   "nbconvert_exporter": "python",
   "pygments_lexer": "ipython3",
   "version": "3.7.11"
  }
 },
 "nbformat": 4,
 "nbformat_minor": 5
}
